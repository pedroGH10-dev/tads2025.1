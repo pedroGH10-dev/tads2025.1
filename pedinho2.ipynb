{
 "cells": [
  {
   "cell_type": "markdown",
   "id": "1d9b6247",
   "metadata": {
    "vscode": {
     "languageId": "plaintext"
    }
   },
   "source": [
    "# Meu primeiro codigo python"
   ]
  },
  {
   "cell_type": "markdown",
   "id": "39d7099a",
   "metadata": {
    "vscode": {
     "languageId": "plaintext"
    }
   },
   "source": [
    "Meu professor é doideira"
   ]
  },
  {
   "cell_type": "markdown",
   "id": "eb0b9686",
   "metadata": {
    "vscode": {
     "languageId": "plaintext"
    }
   },
   "source": [
    "# meu querido notebook\n",
    "\n"
   ]
  },
  {
   "cell_type": "code",
   "execution_count": 7,
   "id": "29af7e9a",
   "metadata": {},
   "outputs": [
    {
     "name": "stdout",
     "output_type": "stream",
     "text": [
      "Ola mundão\n"
     ]
    }
   ],
   "source": [
    "print('Ola mundão');\n"
   ]
  }
 ],
 "metadata": {
  "kernelspec": {
   "display_name": "Python 3",
   "language": "python",
   "name": "python3"
  },
  "language_info": {
   "codemirror_mode": {
    "name": "ipython",
    "version": 3
   },
   "file_extension": ".py",
   "mimetype": "text/x-python",
   "name": "python",
   "nbconvert_exporter": "python",
   "pygments_lexer": "ipython3",
   "version": "3.12.1"
  }
 },
 "nbformat": 4,
 "nbformat_minor": 5
}
